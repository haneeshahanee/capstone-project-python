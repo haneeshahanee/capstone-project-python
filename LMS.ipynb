{
 "cells": [
  {
   "cell_type": "code",
   "execution_count": 5,
   "id": "a78103aa-c354-4d15-b103-7b25d7c997a5",
   "metadata": {},
   "outputs": [
    {
     "name": "stdout",
     "output_type": "stream",
     "text": [
      "Added: Python Programming by Mark Lutz (ISBN: 1449355730) - Available\n",
      "Added: Java Programming by Joyce Farrell (ISBN: 9780061120084) - Available\n",
      "Added: C Programming by Brian Kernighan (ISBN: 9780131101630) - Available\n",
      "Added: CNS by Mark H. Tuszynski (ISBN: 9781503280786) - Available\n",
      "Added: Data Structures by Anuradha A.Puntambekar (ISBN: 9780143106268) - Available\n",
      "\n",
      "Library Management System\n",
      "1. Add Book\n",
      "2. Display Books\n",
      "3. Borrow Book\n",
      "4. Return Book\n",
      "5. Exit\n"
     ]
    },
    {
     "name": "stdin",
     "output_type": "stream",
     "text": [
      "Enter your choice:  2\n"
     ]
    },
    {
     "name": "stdout",
     "output_type": "stream",
     "text": [
      "Python Programming by Mark Lutz (ISBN: 1449355730) - Available\n",
      "Java Programming by Joyce Farrell (ISBN: 9780061120084) - Available\n",
      "C Programming by Brian Kernighan (ISBN: 9780131101630) - Available\n",
      "CNS by Mark H. Tuszynski (ISBN: 9781503280786) - Available\n",
      "Data Structures by Anuradha A.Puntambekar (ISBN: 9780143106268) - Available\n",
      "\n",
      "Library Management System\n",
      "1. Add Book\n",
      "2. Display Books\n",
      "3. Borrow Book\n",
      "4. Return Book\n",
      "5. Exit\n"
     ]
    },
    {
     "name": "stdin",
     "output_type": "stream",
     "text": [
      "Enter your choice:  3\n",
      "Enter the ISBN of the book you want to borrow:  657587\n"
     ]
    },
    {
     "name": "stdout",
     "output_type": "stream",
     "text": [
      "Book not found.\n",
      "\n",
      "Library Management System\n",
      "1. Add Book\n",
      "2. Display Books\n",
      "3. Borrow Book\n",
      "4. Return Book\n",
      "5. Exit\n"
     ]
    },
    {
     "name": "stdin",
     "output_type": "stream",
     "text": [
      "Enter your choice:  4\n",
      "Enter the ISBN of the book you want to return:  657868\n"
     ]
    },
    {
     "name": "stdout",
     "output_type": "stream",
     "text": [
      "Book not found.\n",
      "\n",
      "Library Management System\n",
      "1. Add Book\n",
      "2. Display Books\n",
      "3. Borrow Book\n",
      "4. Return Book\n",
      "5. Exit\n"
     ]
    },
    {
     "name": "stdin",
     "output_type": "stream",
     "text": [
      "Enter your choice:  5\n"
     ]
    },
    {
     "name": "stdout",
     "output_type": "stream",
     "text": [
      "Exiting the system.\n"
     ]
    }
   ],
   "source": [
    "class Book:\n",
    "    def __init__(self, title, author, isbn):\n",
    "        self.title = title\n",
    "        self.author = author\n",
    "        self.isbn = isbn\n",
    "        self.is_borrowed = False\n",
    "\n",
    "    def __str__(self):\n",
    "        return f\"{self.title} by {self.author} (ISBN: {self.isbn}) - {'Borrowed' if self.is_borrowed else 'Available'}\"\n",
    "\n",
    "\n",
    "class Library:\n",
    "    def __init__(self):\n",
    "        self.books = []\n",
    "        self.populate_library()\n",
    "\n",
    "    def populate_library(self):\n",
    "        # Adding some predefined books\n",
    "        self.add_book(Book(\"Python Programming\", \"Mark Lutz\", \"1449355730\"))\n",
    "        self.add_book(Book(\"Java Programming\", \"Joyce Farrell\", \"9780061120084\"))\n",
    "        self.add_book(Book(\"C Programming\", \"Brian Kernighan\", \"9780131101630\"))\n",
    "        self.add_book(Book(\"CNS\", \"Mark H. Tuszynski\", \"9781503280786\"))\n",
    "        self.add_book(Book(\"Data Structures\", \"Anuradha A.Puntambekar\", \"9780143106268\"))\n",
    "\n",
    "    def add_book(self, book):\n",
    "        self.books.append(book)\n",
    "        print(f\"Added: {book}\")\n",
    "\n",
    "    def display_books(self):\n",
    "        if not self.books:\n",
    "            print(\"No books in the library.\")\n",
    "            return\n",
    "        for book in self.books:\n",
    "            print(book)\n",
    "\n",
    "    def borrow_book(self, isbn):\n",
    "        for book in self.books:\n",
    "            if book.isbn == isbn:\n",
    "                if not book.is_borrowed:\n",
    "                    book.is_borrowed = True\n",
    "                    print(f\"You have borrowed: {book}\")\n",
    "                    return\n",
    "                else:\n",
    "                    print(\"This book is already borrowed.\")\n",
    "                    return\n",
    "        print(\"Book not found.\")\n",
    "\n",
    "    def return_book(self, isbn):\n",
    "        for book in self.books:\n",
    "            if book.isbn == isbn:\n",
    "                if book.is_borrowed:\n",
    "                    book.is_borrowed = False\n",
    "                    print(f\"You have returned: {book}\")\n",
    "                    return\n",
    "                else:\n",
    "                    print(\"This book was not borrowed.\")\n",
    "                    return\n",
    "        print(\"Book not found.\")\n",
    "\n",
    "\n",
    "def main():\n",
    "    library = Library()\n",
    "\n",
    "    while True:\n",
    "        print(\"\\nLibrary Management System\")\n",
    "        print(\"1. Add Book\")\n",
    "        print(\"2. Display Books\")\n",
    "        print(\"3. Borrow Book\")\n",
    "        print(\"4. Return Book\")\n",
    "        print(\"5. Exit\")\n",
    "\n",
    "        choice = input(\"Enter your choice: \")\n",
    "\n",
    "        if choice == \"1\":\n",
    "            title = input(\"Enter book title: \")\n",
    "            author = input(\"Enter book author: \")\n",
    "            isbn = input(\"Enter book ISBN: \")\n",
    "            book = Book(title, author, isbn)\n",
    "            library.add_book(book)\n",
    "\n",
    "        elif choice == \"2\":\n",
    "            library.display_books()\n",
    "\n",
    "        elif choice == \"3\":\n",
    "            isbn = input(\"Enter the ISBN of the book you want to borrow: \")\n",
    "            library.borrow_book(isbn)\n",
    "\n",
    "        elif choice == \"4\":\n",
    "            isbn = input(\"Enter the ISBN of the book you want to return: \")\n",
    "            library.return_book(isbn)\n",
    "\n",
    "        elif choice == \"5\":\n",
    "            print(\"Exiting the system.\")\n",
    "            break\n",
    "\n",
    "        else:\n",
    "            print(\"Invalid choice. Please try again.\")\n",
    "\n",
    "\n",
    "if __name__ == \"__main__\":\n",
    "    main()"
   ]
  },
  {
   "cell_type": "code",
   "execution_count": null,
   "id": "807650db-fc14-4af7-aa86-d99bf3d6e362",
   "metadata": {},
   "outputs": [],
   "source": []
  }
 ],
 "metadata": {
  "kernelspec": {
   "display_name": "Python 3 (ipykernel)",
   "language": "python",
   "name": "python3"
  },
  "language_info": {
   "codemirror_mode": {
    "name": "ipython",
    "version": 3
   },
   "file_extension": ".py",
   "mimetype": "text/x-python",
   "name": "python",
   "nbconvert_exporter": "python",
   "pygments_lexer": "ipython3",
   "version": "3.12.4"
  }
 },
 "nbformat": 4,
 "nbformat_minor": 5
}
